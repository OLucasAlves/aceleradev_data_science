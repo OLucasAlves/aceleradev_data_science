{
 "cells": [
  {
   "cell_type": "code",
   "execution_count": 86,
   "metadata": {},
   "outputs": [],
   "source": [
    "import pandas as pd\n",
    "import numpy as np\n",
    "from sklearn.model_selection import train_test_split\n",
    "from sklearn.metrics import mean_squared_error\n",
    "from sklearn.tree import DecisionTreeClassifier"
   ]
  },
  {
   "cell_type": "code",
   "execution_count": 87,
   "metadata": {},
   "outputs": [],
   "source": [
    "treino = pd.read_csv('train.csv')\n",
    "teste = pd.read_csv('test.csv')"
   ]
  },
  {
   "cell_type": "code",
   "execution_count": 88,
   "metadata": {},
   "outputs": [
    {
     "data": {
      "text/html": [
       "<div>\n",
       "<style scoped>\n",
       "    .dataframe tbody tr th:only-of-type {\n",
       "        vertical-align: middle;\n",
       "    }\n",
       "\n",
       "    .dataframe tbody tr th {\n",
       "        vertical-align: top;\n",
       "    }\n",
       "\n",
       "    .dataframe thead th {\n",
       "        text-align: right;\n",
       "    }\n",
       "</style>\n",
       "<table border=\"1\" class=\"dataframe\">\n",
       "  <thead>\n",
       "    <tr style=\"text-align: right;\">\n",
       "      <th></th>\n",
       "      <th>Unnamed: 0</th>\n",
       "      <th>NU_INSCRICAO</th>\n",
       "      <th>NU_ANO</th>\n",
       "      <th>CO_MUNICIPIO_RESIDENCIA</th>\n",
       "      <th>NO_MUNICIPIO_RESIDENCIA</th>\n",
       "      <th>CO_UF_RESIDENCIA</th>\n",
       "      <th>SG_UF_RESIDENCIA</th>\n",
       "      <th>NU_IDADE</th>\n",
       "      <th>TP_SEXO</th>\n",
       "      <th>TP_ESTADO_CIVIL</th>\n",
       "      <th>...</th>\n",
       "      <th>Q041</th>\n",
       "      <th>Q042</th>\n",
       "      <th>Q043</th>\n",
       "      <th>Q044</th>\n",
       "      <th>Q045</th>\n",
       "      <th>Q046</th>\n",
       "      <th>Q047</th>\n",
       "      <th>Q048</th>\n",
       "      <th>Q049</th>\n",
       "      <th>Q050</th>\n",
       "    </tr>\n",
       "  </thead>\n",
       "  <tbody>\n",
       "    <tr>\n",
       "      <th>0</th>\n",
       "      <td>1</td>\n",
       "      <td>ed50e8aaa58e7a806c337585efee9ca41f1eb1ad</td>\n",
       "      <td>2016</td>\n",
       "      <td>4314902</td>\n",
       "      <td>Porto Alegre</td>\n",
       "      <td>43</td>\n",
       "      <td>RS</td>\n",
       "      <td>24</td>\n",
       "      <td>M</td>\n",
       "      <td>0.0</td>\n",
       "      <td>...</td>\n",
       "      <td>5.0</td>\n",
       "      <td>A</td>\n",
       "      <td>A</td>\n",
       "      <td>A</td>\n",
       "      <td>A</td>\n",
       "      <td>A</td>\n",
       "      <td>A</td>\n",
       "      <td>A</td>\n",
       "      <td>B</td>\n",
       "      <td>D</td>\n",
       "    </tr>\n",
       "    <tr>\n",
       "      <th>1</th>\n",
       "      <td>2</td>\n",
       "      <td>2c3acac4b33ec2b195d77e7c04a2d75727fad723</td>\n",
       "      <td>2016</td>\n",
       "      <td>2304707</td>\n",
       "      <td>Granja</td>\n",
       "      <td>23</td>\n",
       "      <td>CE</td>\n",
       "      <td>17</td>\n",
       "      <td>F</td>\n",
       "      <td>0.0</td>\n",
       "      <td>...</td>\n",
       "      <td>NaN</td>\n",
       "      <td>A</td>\n",
       "      <td>A</td>\n",
       "      <td>C</td>\n",
       "      <td>A</td>\n",
       "      <td>B</td>\n",
       "      <td>A</td>\n",
       "      <td>A</td>\n",
       "      <td>C</td>\n",
       "      <td>A</td>\n",
       "    </tr>\n",
       "    <tr>\n",
       "      <th>2</th>\n",
       "      <td>3</td>\n",
       "      <td>f4545f8ccb9ff5c8aad7d32951b3f251a26e6568</td>\n",
       "      <td>2016</td>\n",
       "      <td>2304400</td>\n",
       "      <td>Fortaleza</td>\n",
       "      <td>23</td>\n",
       "      <td>CE</td>\n",
       "      <td>21</td>\n",
       "      <td>F</td>\n",
       "      <td>0.0</td>\n",
       "      <td>...</td>\n",
       "      <td>NaN</td>\n",
       "      <td>A</td>\n",
       "      <td>A</td>\n",
       "      <td>A</td>\n",
       "      <td>A</td>\n",
       "      <td>C</td>\n",
       "      <td>A</td>\n",
       "      <td>A</td>\n",
       "      <td>B</td>\n",
       "      <td>A</td>\n",
       "    </tr>\n",
       "    <tr>\n",
       "      <th>3</th>\n",
       "      <td>4</td>\n",
       "      <td>3d6ec248fef899c414e77f82d5c6d2bffbeaf7fe</td>\n",
       "      <td>2016</td>\n",
       "      <td>3304557</td>\n",
       "      <td>Rio de Janeiro</td>\n",
       "      <td>33</td>\n",
       "      <td>RJ</td>\n",
       "      <td>25</td>\n",
       "      <td>F</td>\n",
       "      <td>0.0</td>\n",
       "      <td>...</td>\n",
       "      <td>5.0</td>\n",
       "      <td>C</td>\n",
       "      <td>A</td>\n",
       "      <td>A</td>\n",
       "      <td>A</td>\n",
       "      <td>A</td>\n",
       "      <td>D</td>\n",
       "      <td>A</td>\n",
       "      <td>A</td>\n",
       "      <td>A</td>\n",
       "    </tr>\n",
       "    <tr>\n",
       "      <th>4</th>\n",
       "      <td>5</td>\n",
       "      <td>bf896ac8d3ecadd6dba1dfbf50110afcbf5d3268</td>\n",
       "      <td>2016</td>\n",
       "      <td>1302603</td>\n",
       "      <td>Manaus</td>\n",
       "      <td>13</td>\n",
       "      <td>AM</td>\n",
       "      <td>28</td>\n",
       "      <td>M</td>\n",
       "      <td>0.0</td>\n",
       "      <td>...</td>\n",
       "      <td>NaN</td>\n",
       "      <td>A</td>\n",
       "      <td>A</td>\n",
       "      <td>A</td>\n",
       "      <td>A</td>\n",
       "      <td>A</td>\n",
       "      <td>A</td>\n",
       "      <td>A</td>\n",
       "      <td>A</td>\n",
       "      <td>A</td>\n",
       "    </tr>\n",
       "  </tbody>\n",
       "</table>\n",
       "<p>5 rows × 167 columns</p>\n",
       "</div>"
      ],
      "text/plain": [
       "   Unnamed: 0                              NU_INSCRICAO  NU_ANO  \\\n",
       "0           1  ed50e8aaa58e7a806c337585efee9ca41f1eb1ad    2016   \n",
       "1           2  2c3acac4b33ec2b195d77e7c04a2d75727fad723    2016   \n",
       "2           3  f4545f8ccb9ff5c8aad7d32951b3f251a26e6568    2016   \n",
       "3           4  3d6ec248fef899c414e77f82d5c6d2bffbeaf7fe    2016   \n",
       "4           5  bf896ac8d3ecadd6dba1dfbf50110afcbf5d3268    2016   \n",
       "\n",
       "   CO_MUNICIPIO_RESIDENCIA NO_MUNICIPIO_RESIDENCIA  CO_UF_RESIDENCIA  \\\n",
       "0                  4314902            Porto Alegre                43   \n",
       "1                  2304707                  Granja                23   \n",
       "2                  2304400               Fortaleza                23   \n",
       "3                  3304557          Rio de Janeiro                33   \n",
       "4                  1302603                  Manaus                13   \n",
       "\n",
       "  SG_UF_RESIDENCIA  NU_IDADE TP_SEXO  TP_ESTADO_CIVIL  ...  Q041  Q042  Q043  \\\n",
       "0               RS        24       M              0.0  ...   5.0     A     A   \n",
       "1               CE        17       F              0.0  ...   NaN     A     A   \n",
       "2               CE        21       F              0.0  ...   NaN     A     A   \n",
       "3               RJ        25       F              0.0  ...   5.0     C     A   \n",
       "4               AM        28       M              0.0  ...   NaN     A     A   \n",
       "\n",
       "  Q044  Q045 Q046  Q047  Q048  Q049  Q050  \n",
       "0    A     A    A     A     A     B     D  \n",
       "1    C     A    B     A     A     C     A  \n",
       "2    A     A    C     A     A     B     A  \n",
       "3    A     A    A     D     A     A     A  \n",
       "4    A     A    A     A     A     A     A  \n",
       "\n",
       "[5 rows x 167 columns]"
      ]
     },
     "execution_count": 88,
     "metadata": {},
     "output_type": "execute_result"
    }
   ],
   "source": [
    "treino.head()"
   ]
  },
  {
   "cell_type": "code",
   "execution_count": 89,
   "metadata": {},
   "outputs": [
    {
     "data": {
      "text/html": [
       "<div>\n",
       "<style scoped>\n",
       "    .dataframe tbody tr th:only-of-type {\n",
       "        vertical-align: middle;\n",
       "    }\n",
       "\n",
       "    .dataframe tbody tr th {\n",
       "        vertical-align: top;\n",
       "    }\n",
       "\n",
       "    .dataframe thead th {\n",
       "        text-align: right;\n",
       "    }\n",
       "</style>\n",
       "<table border=\"1\" class=\"dataframe\">\n",
       "  <thead>\n",
       "    <tr style=\"text-align: right;\">\n",
       "      <th></th>\n",
       "      <th>NU_INSCRICAO</th>\n",
       "      <th>CO_UF_RESIDENCIA</th>\n",
       "      <th>SG_UF_RESIDENCIA</th>\n",
       "      <th>NU_IDADE</th>\n",
       "      <th>TP_SEXO</th>\n",
       "      <th>TP_COR_RACA</th>\n",
       "      <th>TP_NACIONALIDADE</th>\n",
       "      <th>TP_ST_CONCLUSAO</th>\n",
       "      <th>TP_ANO_CONCLUIU</th>\n",
       "      <th>TP_ESCOLA</th>\n",
       "      <th>...</th>\n",
       "      <th>NU_NOTA_COMP5</th>\n",
       "      <th>NU_NOTA_REDACAO</th>\n",
       "      <th>Q001</th>\n",
       "      <th>Q002</th>\n",
       "      <th>Q006</th>\n",
       "      <th>Q024</th>\n",
       "      <th>Q025</th>\n",
       "      <th>Q026</th>\n",
       "      <th>Q027</th>\n",
       "      <th>Q047</th>\n",
       "    </tr>\n",
       "  </thead>\n",
       "  <tbody>\n",
       "    <tr>\n",
       "      <th>0</th>\n",
       "      <td>ba0cc30ba34e7a46764c09dfc38ed83d15828897</td>\n",
       "      <td>43</td>\n",
       "      <td>RS</td>\n",
       "      <td>19</td>\n",
       "      <td>F</td>\n",
       "      <td>1</td>\n",
       "      <td>1</td>\n",
       "      <td>1</td>\n",
       "      <td>3</td>\n",
       "      <td>1</td>\n",
       "      <td>...</td>\n",
       "      <td>NaN</td>\n",
       "      <td>NaN</td>\n",
       "      <td>E</td>\n",
       "      <td>E</td>\n",
       "      <td>H</td>\n",
       "      <td>B</td>\n",
       "      <td>B</td>\n",
       "      <td>C</td>\n",
       "      <td>D</td>\n",
       "      <td>A</td>\n",
       "    </tr>\n",
       "    <tr>\n",
       "      <th>1</th>\n",
       "      <td>177f281c68fa032aedbd842a745da68490926cd2</td>\n",
       "      <td>15</td>\n",
       "      <td>PA</td>\n",
       "      <td>24</td>\n",
       "      <td>M</td>\n",
       "      <td>3</td>\n",
       "      <td>2</td>\n",
       "      <td>1</td>\n",
       "      <td>4</td>\n",
       "      <td>1</td>\n",
       "      <td>...</td>\n",
       "      <td>NaN</td>\n",
       "      <td>NaN</td>\n",
       "      <td>B</td>\n",
       "      <td>C</td>\n",
       "      <td>B</td>\n",
       "      <td>A</td>\n",
       "      <td>A</td>\n",
       "      <td>C</td>\n",
       "      <td>D</td>\n",
       "      <td>A</td>\n",
       "    </tr>\n",
       "    <tr>\n",
       "      <th>2</th>\n",
       "      <td>6cf0d8b97597d7625cdedc7bdb6c0f052286c334</td>\n",
       "      <td>29</td>\n",
       "      <td>BA</td>\n",
       "      <td>16</td>\n",
       "      <td>F</td>\n",
       "      <td>2</td>\n",
       "      <td>1</td>\n",
       "      <td>3</td>\n",
       "      <td>0</td>\n",
       "      <td>1</td>\n",
       "      <td>...</td>\n",
       "      <td>NaN</td>\n",
       "      <td>NaN</td>\n",
       "      <td>E</td>\n",
       "      <td>F</td>\n",
       "      <td>G</td>\n",
       "      <td>B</td>\n",
       "      <td>B</td>\n",
       "      <td>A</td>\n",
       "      <td>NaN</td>\n",
       "      <td>D</td>\n",
       "    </tr>\n",
       "    <tr>\n",
       "      <th>3</th>\n",
       "      <td>5c356d810fa57671402502cd0933e5601a2ebf1e</td>\n",
       "      <td>41</td>\n",
       "      <td>PR</td>\n",
       "      <td>17</td>\n",
       "      <td>F</td>\n",
       "      <td>1</td>\n",
       "      <td>1</td>\n",
       "      <td>2</td>\n",
       "      <td>0</td>\n",
       "      <td>2</td>\n",
       "      <td>...</td>\n",
       "      <td>40.0</td>\n",
       "      <td>480.0</td>\n",
       "      <td>E</td>\n",
       "      <td>E</td>\n",
       "      <td>E</td>\n",
       "      <td>C</td>\n",
       "      <td>B</td>\n",
       "      <td>B</td>\n",
       "      <td>C</td>\n",
       "      <td>A</td>\n",
       "    </tr>\n",
       "    <tr>\n",
       "      <th>4</th>\n",
       "      <td>df47c07bd881c2db3f38c6048bf77c132ad0ceb3</td>\n",
       "      <td>53</td>\n",
       "      <td>DF</td>\n",
       "      <td>19</td>\n",
       "      <td>F</td>\n",
       "      <td>1</td>\n",
       "      <td>1</td>\n",
       "      <td>1</td>\n",
       "      <td>1</td>\n",
       "      <td>1</td>\n",
       "      <td>...</td>\n",
       "      <td>80.0</td>\n",
       "      <td>720.0</td>\n",
       "      <td>E</td>\n",
       "      <td>E</td>\n",
       "      <td>E</td>\n",
       "      <td>B</td>\n",
       "      <td>B</td>\n",
       "      <td>B</td>\n",
       "      <td>D</td>\n",
       "      <td>A</td>\n",
       "    </tr>\n",
       "  </tbody>\n",
       "</table>\n",
       "<p>5 rows × 43 columns</p>\n",
       "</div>"
      ],
      "text/plain": [
       "                               NU_INSCRICAO  CO_UF_RESIDENCIA  \\\n",
       "0  ba0cc30ba34e7a46764c09dfc38ed83d15828897                43   \n",
       "1  177f281c68fa032aedbd842a745da68490926cd2                15   \n",
       "2  6cf0d8b97597d7625cdedc7bdb6c0f052286c334                29   \n",
       "3  5c356d810fa57671402502cd0933e5601a2ebf1e                41   \n",
       "4  df47c07bd881c2db3f38c6048bf77c132ad0ceb3                53   \n",
       "\n",
       "  SG_UF_RESIDENCIA  NU_IDADE TP_SEXO  TP_COR_RACA  TP_NACIONALIDADE  \\\n",
       "0               RS        19       F            1                 1   \n",
       "1               PA        24       M            3                 2   \n",
       "2               BA        16       F            2                 1   \n",
       "3               PR        17       F            1                 1   \n",
       "4               DF        19       F            1                 1   \n",
       "\n",
       "   TP_ST_CONCLUSAO  TP_ANO_CONCLUIU  TP_ESCOLA  ...  NU_NOTA_COMP5  \\\n",
       "0                1                3          1  ...            NaN   \n",
       "1                1                4          1  ...            NaN   \n",
       "2                3                0          1  ...            NaN   \n",
       "3                2                0          2  ...           40.0   \n",
       "4                1                1          1  ...           80.0   \n",
       "\n",
       "   NU_NOTA_REDACAO  Q001  Q002  Q006  Q024  Q025  Q026  Q027  Q047  \n",
       "0              NaN     E     E     H     B     B     C     D     A  \n",
       "1              NaN     B     C     B     A     A     C     D     A  \n",
       "2              NaN     E     F     G     B     B     A   NaN     D  \n",
       "3            480.0     E     E     E     C     B     B     C     A  \n",
       "4            720.0     E     E     E     B     B     B     D     A  \n",
       "\n",
       "[5 rows x 43 columns]"
      ]
     },
     "execution_count": 89,
     "metadata": {},
     "output_type": "execute_result"
    }
   ],
   "source": [
    "teste.head()"
   ]
  },
  {
   "cell_type": "code",
   "execution_count": 90,
   "metadata": {},
   "outputs": [
    {
     "data": {
      "text/plain": [
       "(13730, 167)"
      ]
     },
     "execution_count": 90,
     "metadata": {},
     "output_type": "execute_result"
    }
   ],
   "source": [
    "treino.shape"
   ]
  },
  {
   "cell_type": "code",
   "execution_count": 91,
   "metadata": {},
   "outputs": [
    {
     "data": {
      "text/plain": [
       "(4570, 43)"
      ]
     },
     "execution_count": 91,
     "metadata": {},
     "output_type": "execute_result"
    }
   ],
   "source": [
    "teste.shape"
   ]
  },
  {
   "cell_type": "code",
   "execution_count": 92,
   "metadata": {},
   "outputs": [],
   "source": [
    "#Deixando só as colunas que estão na base de teste na base de treino\n",
    "colunas_teste = list(teste)\n",
    "colunas_teste.append('IN_TREINEIRO')\n",
    "treino = treino[colunas_teste]"
   ]
  },
  {
   "cell_type": "code",
   "execution_count": 93,
   "metadata": {},
   "outputs": [
    {
     "data": {
      "text/plain": [
       "(13730, 44)"
      ]
     },
     "execution_count": 93,
     "metadata": {},
     "output_type": "execute_result"
    }
   ],
   "source": [
    "treino.shape"
   ]
  },
  {
   "cell_type": "code",
   "execution_count": 94,
   "metadata": {},
   "outputs": [
    {
     "data": {
      "text/plain": [
       "(4570, 43)"
      ]
     },
     "execution_count": 94,
     "metadata": {},
     "output_type": "execute_result"
    }
   ],
   "source": [
    "teste.shape"
   ]
  },
  {
   "cell_type": "code",
   "execution_count": 95,
   "metadata": {},
   "outputs": [
    {
     "name": "stdout",
     "output_type": "stream",
     "text": [
      "<class 'pandas.core.frame.DataFrame'>\n",
      "RangeIndex: 4570 entries, 0 to 4569\n",
      "Data columns (total 43 columns):\n",
      " #   Column                  Non-Null Count  Dtype  \n",
      "---  ------                  --------------  -----  \n",
      " 0   NU_INSCRICAO            4570 non-null   object \n",
      " 1   CO_UF_RESIDENCIA        4570 non-null   int64  \n",
      " 2   SG_UF_RESIDENCIA        4570 non-null   object \n",
      " 3   NU_IDADE                4570 non-null   int64  \n",
      " 4   TP_SEXO                 4570 non-null   object \n",
      " 5   TP_COR_RACA             4570 non-null   int64  \n",
      " 6   TP_NACIONALIDADE        4570 non-null   int64  \n",
      " 7   TP_ST_CONCLUSAO         4570 non-null   int64  \n",
      " 8   TP_ANO_CONCLUIU         4570 non-null   int64  \n",
      " 9   TP_ESCOLA               4570 non-null   int64  \n",
      " 10  TP_ENSINO               1426 non-null   float64\n",
      " 11  TP_DEPENDENCIA_ADM_ESC  1426 non-null   float64\n",
      " 12  IN_BAIXA_VISAO          4570 non-null   int64  \n",
      " 13  IN_CEGUEIRA             4570 non-null   int64  \n",
      " 14  IN_SURDEZ               4570 non-null   int64  \n",
      " 15  IN_DISLEXIA             4570 non-null   int64  \n",
      " 16  IN_DISCALCULIA          4570 non-null   int64  \n",
      " 17  IN_SABATISTA            4570 non-null   int64  \n",
      " 18  IN_GESTANTE             4570 non-null   int64  \n",
      " 19  IN_IDOSO                4570 non-null   int64  \n",
      " 20  TP_PRESENCA_CN          4570 non-null   int64  \n",
      " 21  TP_PRESENCA_CH          4570 non-null   int64  \n",
      " 22  TP_PRESENCA_LC          4570 non-null   int64  \n",
      " 23  TP_PRESENCA_MT          4570 non-null   int64  \n",
      " 24  NU_NOTA_CN              3458 non-null   float64\n",
      " 25  NU_NOTA_CH              3458 non-null   float64\n",
      " 26  NU_NOTA_LC              3400 non-null   float64\n",
      " 27  TP_LINGUA               4570 non-null   int64  \n",
      " 28  TP_STATUS_REDACAO       3400 non-null   float64\n",
      " 29  NU_NOTA_COMP1           3400 non-null   float64\n",
      " 30  NU_NOTA_COMP2           3400 non-null   float64\n",
      " 31  NU_NOTA_COMP3           3400 non-null   float64\n",
      " 32  NU_NOTA_COMP4           3400 non-null   float64\n",
      " 33  NU_NOTA_COMP5           3400 non-null   float64\n",
      " 34  NU_NOTA_REDACAO         3400 non-null   float64\n",
      " 35  Q001                    4570 non-null   object \n",
      " 36  Q002                    4570 non-null   object \n",
      " 37  Q006                    4570 non-null   object \n",
      " 38  Q024                    4570 non-null   object \n",
      " 39  Q025                    4570 non-null   object \n",
      " 40  Q026                    4570 non-null   object \n",
      " 41  Q027                    2133 non-null   object \n",
      " 42  Q047                    4570 non-null   object \n",
      "dtypes: float64(12), int64(20), object(11)\n",
      "memory usage: 1.5+ MB\n"
     ]
    }
   ],
   "source": [
    "teste.info()"
   ]
  },
  {
   "cell_type": "code",
   "execution_count": 96,
   "metadata": {},
   "outputs": [
    {
     "name": "stdout",
     "output_type": "stream",
     "text": [
      "<class 'pandas.core.frame.DataFrame'>\n",
      "RangeIndex: 13730 entries, 0 to 13729\n",
      "Data columns (total 44 columns):\n",
      " #   Column                  Non-Null Count  Dtype  \n",
      "---  ------                  --------------  -----  \n",
      " 0   NU_INSCRICAO            13730 non-null  object \n",
      " 1   CO_UF_RESIDENCIA        13730 non-null  int64  \n",
      " 2   SG_UF_RESIDENCIA        13730 non-null  object \n",
      " 3   NU_IDADE                13730 non-null  int64  \n",
      " 4   TP_SEXO                 13730 non-null  object \n",
      " 5   TP_COR_RACA             13730 non-null  int64  \n",
      " 6   TP_NACIONALIDADE        13730 non-null  int64  \n",
      " 7   TP_ST_CONCLUSAO         13730 non-null  int64  \n",
      " 8   TP_ANO_CONCLUIU         13730 non-null  int64  \n",
      " 9   TP_ESCOLA               13730 non-null  int64  \n",
      " 10  TP_ENSINO               4282 non-null   float64\n",
      " 11  TP_DEPENDENCIA_ADM_ESC  4282 non-null   float64\n",
      " 12  IN_BAIXA_VISAO          13730 non-null  int64  \n",
      " 13  IN_CEGUEIRA             13730 non-null  int64  \n",
      " 14  IN_SURDEZ               13730 non-null  int64  \n",
      " 15  IN_DISLEXIA             13730 non-null  int64  \n",
      " 16  IN_DISCALCULIA          13730 non-null  int64  \n",
      " 17  IN_SABATISTA            13730 non-null  int64  \n",
      " 18  IN_GESTANTE             13730 non-null  int64  \n",
      " 19  IN_IDOSO                13730 non-null  int64  \n",
      " 20  TP_PRESENCA_CN          13730 non-null  int64  \n",
      " 21  TP_PRESENCA_CH          13730 non-null  int64  \n",
      " 22  TP_PRESENCA_LC          13730 non-null  int64  \n",
      " 23  TP_PRESENCA_MT          13730 non-null  int64  \n",
      " 24  NU_NOTA_CN              10341 non-null  float64\n",
      " 25  NU_NOTA_CH              10341 non-null  float64\n",
      " 26  NU_NOTA_LC              10133 non-null  float64\n",
      " 27  TP_LINGUA               13730 non-null  int64  \n",
      " 28  TP_STATUS_REDACAO       10133 non-null  float64\n",
      " 29  NU_NOTA_COMP1           10133 non-null  float64\n",
      " 30  NU_NOTA_COMP2           10133 non-null  float64\n",
      " 31  NU_NOTA_COMP3           10133 non-null  float64\n",
      " 32  NU_NOTA_COMP4           10133 non-null  float64\n",
      " 33  NU_NOTA_COMP5           10133 non-null  float64\n",
      " 34  NU_NOTA_REDACAO         10133 non-null  float64\n",
      " 35  Q001                    13730 non-null  object \n",
      " 36  Q002                    13730 non-null  object \n",
      " 37  Q006                    13730 non-null  object \n",
      " 38  Q024                    13730 non-null  object \n",
      " 39  Q025                    13730 non-null  object \n",
      " 40  Q026                    13730 non-null  object \n",
      " 41  Q027                    6357 non-null   object \n",
      " 42  Q047                    13730 non-null  object \n",
      " 43  IN_TREINEIRO            13730 non-null  int64  \n",
      "dtypes: float64(12), int64(21), object(11)\n",
      "memory usage: 4.6+ MB\n"
     ]
    }
   ],
   "source": [
    "treino.info()"
   ]
  },
  {
   "cell_type": "code",
   "execution_count": 97,
   "metadata": {},
   "outputs": [
    {
     "data": {
      "text/plain": [
       "NU_INSCRICAO                 0\n",
       "CO_UF_RESIDENCIA             0\n",
       "SG_UF_RESIDENCIA             0\n",
       "NU_IDADE                     0\n",
       "TP_SEXO                      0\n",
       "TP_COR_RACA                  0\n",
       "TP_NACIONALIDADE             0\n",
       "TP_ST_CONCLUSAO              0\n",
       "TP_ANO_CONCLUIU              0\n",
       "TP_ESCOLA                    0\n",
       "TP_ENSINO                 9448\n",
       "TP_DEPENDENCIA_ADM_ESC    9448\n",
       "IN_BAIXA_VISAO               0\n",
       "IN_CEGUEIRA                  0\n",
       "IN_SURDEZ                    0\n",
       "IN_DISLEXIA                  0\n",
       "IN_DISCALCULIA               0\n",
       "IN_SABATISTA                 0\n",
       "IN_GESTANTE                  0\n",
       "IN_IDOSO                     0\n",
       "TP_PRESENCA_CN               0\n",
       "TP_PRESENCA_CH               0\n",
       "TP_PRESENCA_LC               0\n",
       "TP_PRESENCA_MT               0\n",
       "NU_NOTA_CN                3389\n",
       "NU_NOTA_CH                3389\n",
       "NU_NOTA_LC                3597\n",
       "TP_LINGUA                    0\n",
       "TP_STATUS_REDACAO         3597\n",
       "NU_NOTA_COMP1             3597\n",
       "NU_NOTA_COMP2             3597\n",
       "NU_NOTA_COMP3             3597\n",
       "NU_NOTA_COMP4             3597\n",
       "NU_NOTA_COMP5             3597\n",
       "NU_NOTA_REDACAO           3597\n",
       "Q001                         0\n",
       "Q002                         0\n",
       "Q006                         0\n",
       "Q024                         0\n",
       "Q025                         0\n",
       "Q026                         0\n",
       "Q027                      7373\n",
       "Q047                         0\n",
       "IN_TREINEIRO                 0\n",
       "dtype: int64"
      ]
     },
     "execution_count": 97,
     "metadata": {},
     "output_type": "execute_result"
    }
   ],
   "source": [
    "#verificando quantidade de dados nulos\n",
    "treino.isna().sum()"
   ]
  },
  {
   "cell_type": "code",
   "execution_count": 98,
   "metadata": {},
   "outputs": [
    {
     "data": {
      "text/plain": [
       "NU_INSCRICAO                 0\n",
       "CO_UF_RESIDENCIA             0\n",
       "SG_UF_RESIDENCIA             0\n",
       "NU_IDADE                     0\n",
       "TP_SEXO                      0\n",
       "TP_COR_RACA                  0\n",
       "TP_NACIONALIDADE             0\n",
       "TP_ST_CONCLUSAO              0\n",
       "TP_ANO_CONCLUIU              0\n",
       "TP_ESCOLA                    0\n",
       "TP_ENSINO                 3144\n",
       "TP_DEPENDENCIA_ADM_ESC    3144\n",
       "IN_BAIXA_VISAO               0\n",
       "IN_CEGUEIRA                  0\n",
       "IN_SURDEZ                    0\n",
       "IN_DISLEXIA                  0\n",
       "IN_DISCALCULIA               0\n",
       "IN_SABATISTA                 0\n",
       "IN_GESTANTE                  0\n",
       "IN_IDOSO                     0\n",
       "TP_PRESENCA_CN               0\n",
       "TP_PRESENCA_CH               0\n",
       "TP_PRESENCA_LC               0\n",
       "TP_PRESENCA_MT               0\n",
       "NU_NOTA_CN                1112\n",
       "NU_NOTA_CH                1112\n",
       "NU_NOTA_LC                1170\n",
       "TP_LINGUA                    0\n",
       "TP_STATUS_REDACAO         1170\n",
       "NU_NOTA_COMP1             1170\n",
       "NU_NOTA_COMP2             1170\n",
       "NU_NOTA_COMP3             1170\n",
       "NU_NOTA_COMP4             1170\n",
       "NU_NOTA_COMP5             1170\n",
       "NU_NOTA_REDACAO           1170\n",
       "Q001                         0\n",
       "Q002                         0\n",
       "Q006                         0\n",
       "Q024                         0\n",
       "Q025                         0\n",
       "Q026                         0\n",
       "Q027                      2437\n",
       "Q047                         0\n",
       "dtype: int64"
      ]
     },
     "execution_count": 98,
     "metadata": {},
     "output_type": "execute_result"
    }
   ],
   "source": [
    "#verificando quantidade de dados nulos\n",
    "teste.isna().sum()"
   ]
  },
  {
   "cell_type": "code",
   "execution_count": 99,
   "metadata": {},
   "outputs": [],
   "source": [
    "#Substituindo valores nulos por 0.\n",
    "treino = treino.replace(np.NAN,0)\n",
    "teste = teste.replace(np.NAN,0)"
   ]
  },
  {
   "cell_type": "code",
   "execution_count": 100,
   "metadata": {},
   "outputs": [
    {
     "data": {
      "text/plain": [
       "NU_INSCRICAO              0\n",
       "CO_UF_RESIDENCIA          0\n",
       "SG_UF_RESIDENCIA          0\n",
       "NU_IDADE                  0\n",
       "TP_SEXO                   0\n",
       "TP_COR_RACA               0\n",
       "TP_NACIONALIDADE          0\n",
       "TP_ST_CONCLUSAO           0\n",
       "TP_ANO_CONCLUIU           0\n",
       "TP_ESCOLA                 0\n",
       "TP_ENSINO                 0\n",
       "TP_DEPENDENCIA_ADM_ESC    0\n",
       "IN_BAIXA_VISAO            0\n",
       "IN_CEGUEIRA               0\n",
       "IN_SURDEZ                 0\n",
       "IN_DISLEXIA               0\n",
       "IN_DISCALCULIA            0\n",
       "IN_SABATISTA              0\n",
       "IN_GESTANTE               0\n",
       "IN_IDOSO                  0\n",
       "TP_PRESENCA_CN            0\n",
       "TP_PRESENCA_CH            0\n",
       "TP_PRESENCA_LC            0\n",
       "TP_PRESENCA_MT            0\n",
       "NU_NOTA_CN                0\n",
       "NU_NOTA_CH                0\n",
       "NU_NOTA_LC                0\n",
       "TP_LINGUA                 0\n",
       "TP_STATUS_REDACAO         0\n",
       "NU_NOTA_COMP1             0\n",
       "NU_NOTA_COMP2             0\n",
       "NU_NOTA_COMP3             0\n",
       "NU_NOTA_COMP4             0\n",
       "NU_NOTA_COMP5             0\n",
       "NU_NOTA_REDACAO           0\n",
       "Q001                      0\n",
       "Q002                      0\n",
       "Q006                      0\n",
       "Q024                      0\n",
       "Q025                      0\n",
       "Q026                      0\n",
       "Q027                      0\n",
       "Q047                      0\n",
       "IN_TREINEIRO              0\n",
       "dtype: int64"
      ]
     },
     "execution_count": 100,
     "metadata": {},
     "output_type": "execute_result"
    }
   ],
   "source": [
    "treino.isna().sum()"
   ]
  },
  {
   "cell_type": "code",
   "execution_count": 101,
   "metadata": {},
   "outputs": [
    {
     "data": {
      "text/plain": [
       "NU_INSCRICAO              0\n",
       "CO_UF_RESIDENCIA          0\n",
       "SG_UF_RESIDENCIA          0\n",
       "NU_IDADE                  0\n",
       "TP_SEXO                   0\n",
       "TP_COR_RACA               0\n",
       "TP_NACIONALIDADE          0\n",
       "TP_ST_CONCLUSAO           0\n",
       "TP_ANO_CONCLUIU           0\n",
       "TP_ESCOLA                 0\n",
       "TP_ENSINO                 0\n",
       "TP_DEPENDENCIA_ADM_ESC    0\n",
       "IN_BAIXA_VISAO            0\n",
       "IN_CEGUEIRA               0\n",
       "IN_SURDEZ                 0\n",
       "IN_DISLEXIA               0\n",
       "IN_DISCALCULIA            0\n",
       "IN_SABATISTA              0\n",
       "IN_GESTANTE               0\n",
       "IN_IDOSO                  0\n",
       "TP_PRESENCA_CN            0\n",
       "TP_PRESENCA_CH            0\n",
       "TP_PRESENCA_LC            0\n",
       "TP_PRESENCA_MT            0\n",
       "NU_NOTA_CN                0\n",
       "NU_NOTA_CH                0\n",
       "NU_NOTA_LC                0\n",
       "TP_LINGUA                 0\n",
       "TP_STATUS_REDACAO         0\n",
       "NU_NOTA_COMP1             0\n",
       "NU_NOTA_COMP2             0\n",
       "NU_NOTA_COMP3             0\n",
       "NU_NOTA_COMP4             0\n",
       "NU_NOTA_COMP5             0\n",
       "NU_NOTA_REDACAO           0\n",
       "Q001                      0\n",
       "Q002                      0\n",
       "Q006                      0\n",
       "Q024                      0\n",
       "Q025                      0\n",
       "Q026                      0\n",
       "Q027                      0\n",
       "Q047                      0\n",
       "dtype: int64"
      ]
     },
     "execution_count": 101,
     "metadata": {},
     "output_type": "execute_result"
    }
   ],
   "source": [
    "teste.isna().sum()"
   ]
  },
  {
   "cell_type": "code",
   "execution_count": 102,
   "metadata": {},
   "outputs": [],
   "source": [
    "#Selecionando só colunas numéricas para usar como features\n",
    "coluna_features = treino.select_dtypes(include=['float64','int64']).columns\n",
    "coluna_features = coluna_features.drop('IN_TREINEIRO')\n",
    "coluna_label = ['IN_TREINEIRO']"
   ]
  },
  {
   "cell_type": "code",
   "execution_count": 103,
   "metadata": {},
   "outputs": [],
   "source": [
    "#Dividindo o dataset treino_dados em 2, o dataset de treino e teste\n",
    "X_treino,X_teste,Y_treino,Y_teste = train_test_split(treino[coluna_features].to_numpy()\n",
    "                                                     ,treino[coluna_label].to_numpy())"
   ]
  },
  {
   "cell_type": "code",
   "execution_count": 104,
   "metadata": {},
   "outputs": [
    {
     "data": {
      "text/plain": [
       "((10297, 32), (3433, 32), (10297, 1), (3433, 1))"
      ]
     },
     "execution_count": 104,
     "metadata": {},
     "output_type": "execute_result"
    }
   ],
   "source": [
    "#Vendo quantas linhas em cada dataset \n",
    "X_treino.shape,X_teste.shape,Y_treino.shape,Y_teste.shape"
   ]
  },
  {
   "cell_type": "code",
   "execution_count": 105,
   "metadata": {},
   "outputs": [
    {
     "data": {
      "text/plain": [
       "DecisionTreeClassifier(ccp_alpha=0.0, class_weight=None, criterion='gini',\n",
       "                       max_depth=None, max_features=None, max_leaf_nodes=None,\n",
       "                       min_impurity_decrease=0.0, min_impurity_split=None,\n",
       "                       min_samples_leaf=1, min_samples_split=2,\n",
       "                       min_weight_fraction_leaf=0.0, presort='deprecated',\n",
       "                       random_state=None, splitter='best')"
      ]
     },
     "execution_count": 105,
     "metadata": {},
     "output_type": "execute_result"
    }
   ],
   "source": [
    "modelo = DecisionTreeClassifier()\n",
    "modelo.fit(X_treino, Y_treino)"
   ]
  },
  {
   "cell_type": "code",
   "execution_count": 106,
   "metadata": {},
   "outputs": [
    {
     "name": "stdout",
     "output_type": "stream",
     "text": [
      "Minha avaliação nos dados de teste foi de 0.006408389163996504\n"
     ]
    }
   ],
   "source": [
    "#Realizando predição e checando no mean_squared_error\n",
    "modelo_predicoes = modelo.predict(X_teste)\n",
    "avaliacao = mean_squared_error(Y_teste, modelo_predicoes)\n",
    "print(f\"Minha avaliação nos dados de teste foi de {avaliacao}\")"
   ]
  },
  {
   "cell_type": "code",
   "execution_count": 107,
   "metadata": {},
   "outputs": [],
   "source": [
    "#Atribuindo nosso modelo para realizar classificação\n",
    "MODELO = modelo\n",
    "X_desafio = teste[coluna_features].to_numpy()\n",
    "predicao_desafio = MODELO.predict(X_desafio)"
   ]
  },
  {
   "cell_type": "code",
   "execution_count": 108,
   "metadata": {},
   "outputs": [],
   "source": [
    "#Montando Dataframe de saída\n",
    "desafio_df = pd.DataFrame(teste.NU_INSCRICAO)"
   ]
  },
  {
   "cell_type": "code",
   "execution_count": 109,
   "metadata": {},
   "outputs": [],
   "source": [
    "#Atribuindo a classifição ao nosso dataframe com o nome de coluna \"IN_TREINEIRO\"\n",
    "desafio_df ['IN_TREINEIRO'] = predicao_desafio"
   ]
  },
  {
   "cell_type": "code",
   "execution_count": 110,
   "metadata": {},
   "outputs": [],
   "source": [
    "desafio_df.set_index(\"NU_INSCRICAO\",inplace=True)"
   ]
  },
  {
   "cell_type": "code",
   "execution_count": 111,
   "metadata": {},
   "outputs": [
    {
     "data": {
      "text/html": [
       "<div>\n",
       "<style scoped>\n",
       "    .dataframe tbody tr th:only-of-type {\n",
       "        vertical-align: middle;\n",
       "    }\n",
       "\n",
       "    .dataframe tbody tr th {\n",
       "        vertical-align: top;\n",
       "    }\n",
       "\n",
       "    .dataframe thead th {\n",
       "        text-align: right;\n",
       "    }\n",
       "</style>\n",
       "<table border=\"1\" class=\"dataframe\">\n",
       "  <thead>\n",
       "    <tr style=\"text-align: right;\">\n",
       "      <th></th>\n",
       "      <th>IN_TREINEIRO</th>\n",
       "    </tr>\n",
       "    <tr>\n",
       "      <th>NU_INSCRICAO</th>\n",
       "      <th></th>\n",
       "    </tr>\n",
       "  </thead>\n",
       "  <tbody>\n",
       "    <tr>\n",
       "      <th>ba0cc30ba34e7a46764c09dfc38ed83d15828897</th>\n",
       "      <td>0</td>\n",
       "    </tr>\n",
       "    <tr>\n",
       "      <th>177f281c68fa032aedbd842a745da68490926cd2</th>\n",
       "      <td>0</td>\n",
       "    </tr>\n",
       "    <tr>\n",
       "      <th>6cf0d8b97597d7625cdedc7bdb6c0f052286c334</th>\n",
       "      <td>1</td>\n",
       "    </tr>\n",
       "    <tr>\n",
       "      <th>5c356d810fa57671402502cd0933e5601a2ebf1e</th>\n",
       "      <td>0</td>\n",
       "    </tr>\n",
       "    <tr>\n",
       "      <th>df47c07bd881c2db3f38c6048bf77c132ad0ceb3</th>\n",
       "      <td>0</td>\n",
       "    </tr>\n",
       "    <tr>\n",
       "      <th>...</th>\n",
       "      <td>...</td>\n",
       "    </tr>\n",
       "    <tr>\n",
       "      <th>361b7fcd8867119550fe2af5aa729ffad89a7cf5</th>\n",
       "      <td>0</td>\n",
       "    </tr>\n",
       "    <tr>\n",
       "      <th>d8a0e4c9e29494cc9bba2422bd79333931475ee1</th>\n",
       "      <td>0</td>\n",
       "    </tr>\n",
       "    <tr>\n",
       "      <th>3f1c3388244df8d6521e983a809292d9f3bca643</th>\n",
       "      <td>0</td>\n",
       "    </tr>\n",
       "    <tr>\n",
       "      <th>1778e9c4cef591beb6b986d191d15ed05de816b0</th>\n",
       "      <td>0</td>\n",
       "    </tr>\n",
       "    <tr>\n",
       "      <th>096809759695097e384e766d2d9e23a34fc81610</th>\n",
       "      <td>0</td>\n",
       "    </tr>\n",
       "  </tbody>\n",
       "</table>\n",
       "<p>4570 rows × 1 columns</p>\n",
       "</div>"
      ],
      "text/plain": [
       "                                          IN_TREINEIRO\n",
       "NU_INSCRICAO                                          \n",
       "ba0cc30ba34e7a46764c09dfc38ed83d15828897             0\n",
       "177f281c68fa032aedbd842a745da68490926cd2             0\n",
       "6cf0d8b97597d7625cdedc7bdb6c0f052286c334             1\n",
       "5c356d810fa57671402502cd0933e5601a2ebf1e             0\n",
       "df47c07bd881c2db3f38c6048bf77c132ad0ceb3             0\n",
       "...                                                ...\n",
       "361b7fcd8867119550fe2af5aa729ffad89a7cf5             0\n",
       "d8a0e4c9e29494cc9bba2422bd79333931475ee1             0\n",
       "3f1c3388244df8d6521e983a809292d9f3bca643             0\n",
       "1778e9c4cef591beb6b986d191d15ed05de816b0             0\n",
       "096809759695097e384e766d2d9e23a34fc81610             0\n",
       "\n",
       "[4570 rows x 1 columns]"
      ]
     },
     "execution_count": 111,
     "metadata": {},
     "output_type": "execute_result"
    }
   ],
   "source": [
    "desafio_df"
   ]
  },
  {
   "cell_type": "code",
   "execution_count": 112,
   "metadata": {},
   "outputs": [],
   "source": [
    "#Gerando o arquivo a ser enviado pra o teste\n",
    "desafio_df.to_csv('answer.csv')"
   ]
  },
  {
   "cell_type": "code",
   "execution_count": null,
   "metadata": {},
   "outputs": [],
   "source": []
  }
 ],
 "metadata": {
  "kernelspec": {
   "display_name": "Python 3.7.5 64-bit",
   "language": "python",
   "name": "python37564bitd84dab6b694a4646b6d0970092bb83d5"
  },
  "language_info": {
   "codemirror_mode": {
    "name": "ipython",
    "version": 3
   },
   "file_extension": ".py",
   "mimetype": "text/x-python",
   "name": "python",
   "nbconvert_exporter": "python",
   "pygments_lexer": "ipython3",
   "version": "3.7.5"
  }
 },
 "nbformat": 4,
 "nbformat_minor": 2
}
